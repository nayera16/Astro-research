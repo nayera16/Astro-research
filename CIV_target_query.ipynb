{
 "cells": [
  {
   "cell_type": "code",
   "execution_count": 2,
   "id": "a2de8283-9053-4b95-a1e0-06e7ce785703",
   "metadata": {},
   "outputs": [
    {
     "name": "stdout",
     "output_type": "stream",
     "text": [
      "Querying MAST for RA=191.29222, Dec=43.81053...\n",
      "Found 31 observations for RA=191.29222, Dec=43.81053.\n",
      "Spectrum found for RA=191.29222, Dec=43.81053.\n",
      "Querying MAST for RA=110.5, Dec=58.00001...\n",
      "Found 53 observations for RA=110.5, Dec=58.00001.\n",
      "Spectrum found for RA=110.5, Dec=58.00001.\n",
      "Querying MAST for RA=132.845, Dec=44.75...\n",
      "Found 367 observations for RA=132.845, Dec=44.75.\n"
     ]
    },
    {
     "data": {
      "text/plain": [
       "<Figure size 1000x500 with 0 Axes>"
      ]
     },
     "metadata": {},
     "output_type": "display_data"
    },
    {
     "data": {
      "text/plain": [
       "<Figure size 1000x500 with 0 Axes>"
      ]
     },
     "metadata": {},
     "output_type": "display_data"
    }
   ],
   "source": [
    "from astroquery.mast import Observations\n",
    "from astroquery.exceptions import RemoteServiceError\n",
    "from astropy.coordinates import SkyCoord\n",
    "import matplotlib.pyplot as plt\n",
    "\n",
    "# List of RA and Dec coordinates for your targets (in degrees)\n",
    "coordinates = [\n",
    "    (191.29222, 43.81053),  # Example: J1245+4348\n",
    "    (110.5, 58.00001),  # Example: J1100+5800\n",
    "    (132.845, 44.75),  # Example: J1328+4445\n",
    "    # Add more targets here...\n",
    "]\n",
    "\n",
    "# Function to query MAST and retrieve spectra\n",
    "def get_spectra_from_mast(ra, dec):\n",
    "    co = SkyCoord(ra=ra, dec=dec, unit=\"deg\")\n",
    "    try:\n",
    "        # Query MAST for the spectrum using the Observations class\n",
    "        print(f\"Querying MAST for RA={ra}, Dec={dec}...\")\n",
    "        \n",
    "        # Query for observations in the area\n",
    "        obs = Observations.query_region(co, radius=0.1)\n",
    "        \n",
    "        if len(obs) > 0:\n",
    "            print(f\"Found {len(obs)} observations for RA={ra}, Dec={dec}.\")\n",
    "            \n",
    "            # Look through the observations and try to find a spectrum\n",
    "            for observation in obs:\n",
    "                # Check if the observation contains spectrum data (it might be in a different format)\n",
    "                if 'spectrum' in observation['dataProductType']:\n",
    "                    # Download the spectrum data (e.g., FITS file)\n",
    "                    print(f\"Downloading spectrum for RA={ra}, Dec={dec}.\")\n",
    "                    data = Observations.get_product_list(observation)\n",
    "                    \n",
    "                    # Find the spectrum data in the product list\n",
    "                    spectrum_data = None\n",
    "                    for product in data:\n",
    "                        if product['dataProductType'] == 'spectrum':\n",
    "                            spectrum_data = product\n",
    "                            break\n",
    "                    \n",
    "                    if spectrum_data is not None:\n",
    "                        # Download the spectrum file\n",
    "                        Observations.download_products([spectrum_data])\n",
    "                        \n",
    "                        # Extract and plot the spectrum (assuming FITS format for simplicity)\n",
    "                        # You might need to adjust this part based on the actual format of the spectrum data\n",
    "                        from astropy.io import fits\n",
    "                        spectrum_file = spectrum_data['fileName']\n",
    "                        with fits.open(spectrum_file) as hdul:\n",
    "                            spectrum = hdul[1].data  # Assuming the spectrum is in the second HDU\n",
    "                            wavelength = spectrum['WAVELENGTH']  # Adjust the column name as needed\n",
    "                            flux = spectrum['FLUX']  # Adjust the column name as needed\n",
    "                        \n",
    "                        # Plot the spectrum\n",
    "                        plt.figure(figsize=(10, 5))\n",
    "                        plt.plot(wavelength, flux, label=f\"Spectrum for RA={ra}, Dec={dec}\")\n",
    "                        plt.xlabel(\"Wavelength (Å)\")\n",
    "                        plt.ylabel(\"Flux (10⁻¹⁷ erg/s/cm²/Å)\")\n",
    "                        plt.title(f\"Spectrum for RA={ra}, Dec={dec}\")\n",
    "                        plt.legend()\n",
    "                        plt.show()\n",
    "                        return spectrum_data\n",
    "        else:\n",
    "            print(f\"No observations found for RA={ra}, Dec={dec}.\")\n",
    "            return None\n",
    "    except RemoteServiceError:\n",
    "        print(f\"Error querying MAST for RA={ra}, Dec={dec}.\")\n",
    "        return None\n",
    "\n",
    "# Loop through the list of targets and query MAST\n",
    "for ra, dec in coordinates:\n",
    "    spectrum = get_spectra_from_mast(ra, dec)\n",
    "    \n",
    "    if spectrum is not None:\n",
    "        print(f\"Successfully retrieved and plotted the spectrum for RA={ra}, Dec={dec}.\")\n"
   ]
  },
  {
   "cell_type": "code",
   "execution_count": null,
   "id": "56888b01-809f-4fad-891c-838b9181f5ce",
   "metadata": {},
   "outputs": [],
   "source": []
  }
 ],
 "metadata": {
  "kernelspec": {
   "display_name": "Python [conda env:base] *",
   "language": "python",
   "name": "conda-base-py"
  },
  "language_info": {
   "codemirror_mode": {
    "name": "ipython",
    "version": 3
   },
   "file_extension": ".py",
   "mimetype": "text/x-python",
   "name": "python",
   "nbconvert_exporter": "python",
   "pygments_lexer": "ipython3",
   "version": "3.12.2"
  }
 },
 "nbformat": 4,
 "nbformat_minor": 5
}
